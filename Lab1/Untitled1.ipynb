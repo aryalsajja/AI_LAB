{
  "nbformat": 4,
  "nbformat_minor": 0,
  "metadata": {
    "colab": {
      "provenance": []
    },
    "kernelspec": {
      "name": "python3",
      "display_name": "Python 3"
    },
    "language_info": {
      "name": "python"
    }
  },
  "cells": [
    {
      "cell_type": "code",
      "execution_count": 1,
      "metadata": {
        "id": "-h5u7VICujTv"
      },
      "outputs": [],
      "source": [
        "def isprime(x):\n",
        "    if x<=1:\n",
        "        return False\n",
        "    for i in range(2, int(x**0.5)+1):\n",
        "        if x%i == 0:\n",
        "            return False\n",
        "    return True"
      ]
    },
    {
      "cell_type": "code",
      "source": [
        "def display(start, end):\n",
        "  print(f\"Prime numbers are:\")\n",
        "  for x in range(start,end +1):\n",
        "    if isprime(x):\n",
        "        print(x)"
      ],
      "metadata": {
        "id": "nwE7duhburA8"
      },
      "execution_count": 2,
      "outputs": []
    },
    {
      "cell_type": "code",
      "source": [
        "start = int(input(\"Enter the number for the start of the range:\"))\n",
        "end =int(input(\"Enter the number for end range:\"))\n",
        "display(start,end)"
      ],
      "metadata": {
        "colab": {
          "base_uri": "https://localhost:8080/"
        },
        "id": "2rRIjtjpuyqd",
        "outputId": "a0945d2e-11be-4d0c-97b5-662c6aa2878e"
      },
      "execution_count": 3,
      "outputs": [
        {
          "output_type": "stream",
          "name": "stdout",
          "text": [
            "Enter the number for the start of the range:1\n",
            "Enter the number for end range:8\n",
            "Prime numbers are:\n",
            "2\n",
            "3\n",
            "5\n",
            "7\n"
          ]
        }
      ]
    }
  ]
}