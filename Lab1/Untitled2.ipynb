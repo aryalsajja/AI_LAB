{
  "nbformat": 4,
  "nbformat_minor": 0,
  "metadata": {
    "colab": {
      "provenance": []
    },
    "kernelspec": {
      "name": "python3",
      "display_name": "Python 3"
    },
    "language_info": {
      "name": "python"
    }
  },
  "cells": [
    {
      "cell_type": "code",
      "execution_count": 1,
      "metadata": {
        "colab": {
          "base_uri": "https://localhost:8080/"
        },
        "id": "6fpUGEMqwnPG",
        "outputId": "9bd2d45a-d0c5-4938-96c3-d8efbcadd16f"
      },
      "outputs": [
        {
          "output_type": "stream",
          "name": "stdout",
          "text": [
            "Welcome to Number Guessing game.\n",
            "Your mission is to guess the CORRECT Number.\n",
            "\n"
          ]
        }
      ],
      "source": [
        "import random\n",
        "\n",
        "print(\"Welcome to Number Guessing game.\\nYour mission is to guess the CORRECT Number.\\n\")\n",
        "Number = random.randint(1, 100)"
      ]
    },
    {
      "cell_type": "code",
      "source": [
        "while True:\n",
        "    check=int(input(f\"Guess a number between 1 and 100.\\n\"))\n",
        "    if check<Number:\n",
        "        print(\"You should go HIGHER.\")\n",
        "    elif check>Number:\n",
        "        print(\"You should go LOWER.\")\n",
        "    else:\n",
        "        print(\"\\nHURRAY! You got the CORRECT number.\")\n",
        "        print(\"Your number was:\\n \")\n",
        "        print(Number,\"\\n\")\n",
        "        break"
      ],
      "metadata": {
        "colab": {
          "base_uri": "https://localhost:8080/"
        },
        "id": "UBrWwlZ-2h5K",
        "outputId": "d7727ac7-bfa0-4cf7-abe0-0e0539a938c3"
      },
      "execution_count": 2,
      "outputs": [
        {
          "output_type": "stream",
          "name": "stdout",
          "text": [
            "Guess a number between 1 and 100.\n",
            "45\n",
            "You should go LOWER.\n",
            "Guess a number between 1 and 100.\n",
            "40\n",
            "You should go HIGHER.\n",
            "Guess a number between 1 and 100.\n",
            "43\n",
            "You should go HIGHER.\n",
            "Guess a number between 1 and 100.\n",
            "44\n",
            "\n",
            "HURRAY! You got the CORRECT number.\n",
            "Your number was:\n",
            " \n",
            "44 \n",
            "\n"
          ]
        }
      ]
    }
  ]
}