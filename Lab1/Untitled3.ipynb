{
  "nbformat": 4,
  "nbformat_minor": 0,
  "metadata": {
    "colab": {
      "provenance": []
    },
    "kernelspec": {
      "name": "python3",
      "display_name": "Python 3"
    },
    "language_info": {
      "name": "python"
    }
  },
  "cells": [
    {
      "cell_type": "code",
      "execution_count": 3,
      "metadata": {
        "id": "qe-B0-jE3MxE"
      },
      "outputs": [],
      "source": [
        "def ispal(data):\n",
        "    if data == data[::-1]:\n",
        "        return True\n",
        "    else:\n",
        "        return False\n"
      ]
    },
    {
      "cell_type": "code",
      "source": [
        "data=input(\"Enter the string:\\n\")\n",
        "data=data.lower()"
      ],
      "metadata": {
        "colab": {
          "base_uri": "https://localhost:8080/"
        },
        "id": "JhWJz4Pz4vca",
        "outputId": "fcb66769-17d5-4b8c-c75d-9a24add2de61"
      },
      "execution_count": 4,
      "outputs": [
        {
          "name": "stdout",
          "output_type": "stream",
          "text": [
            "Enter the string:\n",
            "HellEh\n"
          ]
        }
      ]
    },
    {
      "cell_type": "code",
      "source": [
        "if ispal(data):\n",
        "    print(f\"{data} is palindrome\")\n",
        "else:\n",
        "    print(f\"{data} is not palindrome\")"
      ],
      "metadata": {
        "colab": {
          "base_uri": "https://localhost:8080/"
        },
        "id": "b8zGoY7Y4z8D",
        "outputId": "2a4d7d9e-4bd0-4d81-fc34-ff14c572a11f"
      },
      "execution_count": 5,
      "outputs": [
        {
          "output_type": "stream",
          "name": "stdout",
          "text": [
            "helleh is palindrome\n"
          ]
        }
      ]
    }
  ]
}