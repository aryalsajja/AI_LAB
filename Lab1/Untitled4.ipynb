{
  "nbformat": 4,
  "nbformat_minor": 0,
  "metadata": {
    "colab": {
      "provenance": []
    },
    "kernelspec": {
      "name": "python3",
      "display_name": "Python 3"
    },
    "language_info": {
      "name": "python"
    }
  },
  "cells": [
    {
      "cell_type": "code",
      "execution_count": 9,
      "metadata": {
        "id": "CsADoTR47awU"
      },
      "outputs": [],
      "source": [
        "def fibonacci(num):\n",
        "  fib=[]\n",
        "  a=0\n",
        "  b=1\n",
        "  while a<num:\n",
        "    fib.append(a)\n",
        "    c=a+b\n",
        "    a=b\n",
        "    b=c\n",
        "  return fib"
      ]
    },
    {
      "cell_type": "code",
      "source": [
        "num = int(input(\"Enter the number up to which fibonnacci sequence has to be generated:\\n\"))\n",
        "print(fibonacci(num))"
      ],
      "metadata": {
        "colab": {
          "base_uri": "https://localhost:8080/"
        },
        "id": "EktLfYpQ7-T-",
        "outputId": "5891b909-6cee-43f3-a6c6-b0b1be1be067"
      },
      "execution_count": 10,
      "outputs": [
        {
          "output_type": "stream",
          "name": "stdout",
          "text": [
            "Enter the number up to which fibonnacci sequence has to be generated:\n",
            "15\n",
            "[0, 1, 1, 2, 3, 5, 8, 13]\n"
          ]
        }
      ]
    },
    {
      "cell_type": "markdown",
      "source": [
        "Enter the number up to which fibonnacci sequence has to be generated:\n",
        "15\n",
        "[0, 1, 1, 2, 3, 5, 8, 13]"
      ],
      "metadata": {
        "id": "XxWGqvWM94ZP"
      }
    }
  ]
}